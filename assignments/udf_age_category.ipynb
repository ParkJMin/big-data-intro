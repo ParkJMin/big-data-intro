{
 "cells": [
  {
   "cell_type": "code",
   "execution_count": 1,
   "id": "8e59fdd4-e5ef-40bc-aa09-6425e48adf69",
   "metadata": {},
   "outputs": [],
   "source": [
    "from pyspark.sql import SparkSession"
   ]
  },
  {
   "cell_type": "code",
   "execution_count": 3,
   "id": "729c9029-6a46-472a-b042-3c36ff19509c",
   "metadata": {},
   "outputs": [],
   "source": [
    "spark = SparkSession.builder.master('local').appName('udf_age_category').getOrCreate()"
   ]
  },
  {
   "cell_type": "code",
   "execution_count": 30,
   "id": "e069f8ed-ed2b-49bc-b9dc-6018b7cdf444",
   "metadata": {},
   "outputs": [],
   "source": [
    "data = [\n",
    "    ('안현', 39),\n",
    "    ('제민', 25),\n",
    "    ('크리스틴 리터', 41),\n",
    "    ('소피아 앤 카루소', 21),\n",
    "    ('에바 그린', 42),\n",
    "    ('앤 해서웨이', 40),\n",
    "    ('다니엘라 멜키오르', 26),\n",
    "    ('최민식', 61)\n",
    "]"
   ]
  },
  {
   "cell_type": "code",
   "execution_count": 31,
   "id": "28a5110e-a3d8-4b79-8571-7391bf79d42b",
   "metadata": {},
   "outputs": [],
   "source": [
    "schema = ['name', 'age']"
   ]
  },
  {
   "cell_type": "code",
   "execution_count": 32,
   "id": "471add28-c485-4bf9-b7f1-6881e49db141",
   "metadata": {},
   "outputs": [],
   "source": [
    "df = spark.createDataFrame(data=data, schema=schema)"
   ]
  },
  {
   "cell_type": "code",
   "execution_count": 33,
   "id": "1a7d6eeb-db95-4cef-a509-8c1d4fbe3531",
   "metadata": {},
   "outputs": [
    {
     "name": "stdout",
     "output_type": "stream",
     "text": [
      "+-----------------+---+\n",
      "|             name|age|\n",
      "+-----------------+---+\n",
      "|             안현| 39|\n",
      "|             제민| 25|\n",
      "|    크리스틴 리터| 41|\n",
      "| 소피아 앤 카루소| 21|\n",
      "|        에바 그린| 42|\n",
      "|      앤 해서웨이| 40|\n",
      "|다니엘라 멜키오르| 26|\n",
      "|           최민식| 61|\n",
      "+-----------------+---+\n",
      "\n"
     ]
    }
   ],
   "source": [
    "df.show()"
   ]
  },
  {
   "cell_type": "code",
   "execution_count": 34,
   "id": "fd7bbc35-56b4-48d7-9556-dcfaf935154c",
   "metadata": {},
   "outputs": [],
   "source": [
    "df.createOrReplaceTempView('age')"
   ]
  },
  {
   "cell_type": "code",
   "execution_count": 38,
   "id": "38d523ef-49bb-447c-98ab-86832ecf6889",
   "metadata": {},
   "outputs": [],
   "source": [
    "def age_category(age):\n",
    "    if age < 35:\n",
    "        return 'young'\n",
    "    elif age >= 35 and age < 60:\n",
    "        return 'adult'\n",
    "    elif age >= 60:\n",
    "        return 'senior'"
   ]
  },
  {
   "cell_type": "code",
   "execution_count": 39,
   "id": "41729915-d8c5-4faa-9708-deaa9a8d09d7",
   "metadata": {},
   "outputs": [
    {
     "data": {
      "text/plain": [
       "<function __main__.age_category(age)>"
      ]
     },
     "execution_count": 39,
     "metadata": {},
     "output_type": "execute_result"
    }
   ],
   "source": [
    "# from pyspark.sql.functions import udf\n",
    "spark.udf.register('age_category', age_category)"
   ]
  },
  {
   "cell_type": "code",
   "execution_count": 40,
   "id": "dd84b39a-7cf9-443a-a82a-1f42fec13715",
   "metadata": {},
   "outputs": [
    {
     "name": "stdout",
     "output_type": "stream",
     "text": [
      "+-----------------+-----------------+\n",
      "|             name|age_category(age)|\n",
      "+-----------------+-----------------+\n",
      "|             안현|            adult|\n",
      "|             제민|            young|\n",
      "|    크리스틴 리터|            adult|\n",
      "| 소피아 앤 카루소|            young|\n",
      "|        에바 그린|            adult|\n",
      "|      앤 해서웨이|            adult|\n",
      "|다니엘라 멜키오르|            young|\n",
      "|           최민식|           senior|\n",
      "+-----------------+-----------------+\n",
      "\n"
     ]
    }
   ],
   "source": [
    "spark.sql(\"SELECT name, age_category(age) \\\n",
    "    From age\").show()"
   ]
  },
  {
   "cell_type": "code",
   "execution_count": null,
   "id": "01cc2d56-9693-4320-9ac9-ddcca6d5d74c",
   "metadata": {},
   "outputs": [],
   "source": []
  },
  {
   "cell_type": "code",
   "execution_count": null,
   "id": "f3653664-444f-4a51-92c1-3c4f1be7fe3c",
   "metadata": {},
   "outputs": [],
   "source": []
  }
 ],
 "metadata": {
  "kernelspec": {
   "display_name": "Python 3 (ipykernel)",
   "language": "python",
   "name": "python3"
  },
  "language_info": {
   "codemirror_mode": {
    "name": "ipython",
    "version": 3
   },
   "file_extension": ".py",
   "mimetype": "text/x-python",
   "name": "python",
   "nbconvert_exporter": "python",
   "pygments_lexer": "ipython3",
   "version": "3.7.6"
  }
 },
 "nbformat": 4,
 "nbformat_minor": 5
}
