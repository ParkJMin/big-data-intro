{
 "cells": [
  {
   "cell_type": "code",
   "execution_count": 1,
   "id": "99c5cb4b-7a01-4130-a968-90862eedbf23",
   "metadata": {},
   "outputs": [],
   "source": [
    "# Load pyspark, pandas\n",
    "from pyspark import SparkConf, SparkContext\n",
    "import pandas as pd"
   ]
  },
  {
   "cell_type": "code",
   "execution_count": 2,
   "id": "8a5b194a-1146-4359-8e42-43615d8185e9",
   "metadata": {},
   "outputs": [],
   "source": [
    "# Configure Spark\n",
    "conf = SparkConf().setMaster(\"local\").setAppName(\"uber-date-trips\")\n",
    "sc = SparkContext(conf=conf)"
   ]
  },
  {
   "cell_type": "code",
   "execution_count": 3,
   "id": "3fc30063-9c6e-474c-81cf-4e61cab098a2",
   "metadata": {},
   "outputs": [],
   "source": [
    "# Dataset sample\n",
    "filename = \"fhvhv_tripdata_2020-03_short.csv\""
   ]
  },
  {
   "cell_type": "code",
   "execution_count": 4,
   "id": "e3605e6e-2282-4d45-b53e-4cd70996a15a",
   "metadata": {},
   "outputs": [],
   "source": [
    "# Data parsing\n",
    "lines = sc.textFile(\"./data/\" + filename)   # .csv -> RDD object\n",
    "header = lines.first()\n",
    "filtered_lines = lines.filter(lambda row:row != header) # all lines excepting the header"
   ]
  },
  {
   "cell_type": "code",
   "execution_count": 5,
   "id": "e1beb048-516a-4b4d-9ce8-a25e7adaab33",
   "metadata": {},
   "outputs": [],
   "source": [
    "\"\"\"\n",
    "    Run the Spark job\n",
    "    - map(): apply the transformation on every element of RDD -> new RDD\n",
    "    - countByValue(): action that returns the count of each unique value\n",
    "    - x.split(\", \")[2]: extract the value of pickup_datetime from a row\n",
    "    e.g., 2020-03-01 00:03:40\n",
    "    - .split(\" \")[0]: extract the date from the pickup_datetime\n",
    "    e.g., 2020-03-01\n",
    "\"\"\"\n",
    "\n",
    "dates = filtered_lines.map(lambda x: x.split(\",\")[0])\n",
    "result = dates.countByValue()"
   ]
  },
  {
   "cell_type": "code",
   "execution_count": 6,
   "id": "7d4254fa-8fc5-4fe0-a5b8-15cc2b2e8230",
   "metadata": {},
   "outputs": [],
   "source": [
    "# Save results as a csv file\n",
    "pd.Series(result, name=\"trips\").to_csv(\"./data/trips_date.csv\")"
   ]
  },
  {
   "cell_type": "code",
   "execution_count": 7,
   "id": "1f3dfa8a-4596-4f12-9787-ee8c687ed3e9",
   "metadata": {
    "tags": []
   },
   "outputs": [
    {
     "data": {
      "image/png": "[encoded data removed]",
      "text/plain": [
       "<Figure size 640x480 with 1 Axes>"
      ]
     },
     "metadata": {},
     "output_type": "display_data"
    }
   ],
   "source": [
    "# Visualize the results\n",
    "import matplotlib.pyplot as plt\n",
    "\n",
    "trips = pd.read_csv(\"./data/trips_date.csv\")\n",
    "trips.plot()\n",
    "plt.show()\n"
   ]
  },
  {
   "cell_type": "code",
   "execution_count": 8,
   "id": "9f0872f0-933e-43a6-babd-b508b21f96c0",
   "metadata": {},
   "outputs": [
    {
     "data": {
      "text/html": [
       "<div>\n",
       "<style scoped>\n",
       "    .dataframe tbody tr th:only-of-type {\n",
       "        vertical-align: middle;\n",
       "    }\n",
       "\n",
       "    .dataframe tbody tr th {\n",
       "        vertical-align: top;\n",
       "    }\n",
       "\n",
       "    .dataframe thead th {\n",
       "        text-align: right;\n",
       "    }\n",
       "</style>\n",
       "<table border=\"1\" class=\"dataframe\">\n",
       "  <thead>\n",
       "    <tr style=\"text-align: right;\">\n",
       "      <th></th>\n",
       "      <th>Unnamed: 0</th>\n",
       "      <th>trips</th>\n",
       "    </tr>\n",
       "  </thead>\n",
       "  <tbody>\n",
       "    <tr>\n",
       "      <th>0</th>\n",
       "      <td>HV0005</td>\n",
       "      <td>1176143</td>\n",
       "    </tr>\n",
       "    <tr>\n",
       "      <th>1</th>\n",
       "      <td>HV0003</td>\n",
       "      <td>3537637</td>\n",
       "    </tr>\n",
       "    <tr>\n",
       "      <th>2</th>\n",
       "      <td>HV0004</td>\n",
       "      <td>147216</td>\n",
       "    </tr>\n",
       "  </tbody>\n",
       "</table>\n",
       "</div>"
      ],
      "text/plain": [
       "  Unnamed: 0    trips\n",
       "0     HV0005  1176143\n",
       "1     HV0003  3537637\n",
       "2     HV0004   147216"
      ]
     },
     "execution_count": 8,
     "metadata": {},
     "output_type": "execute_result"
    }
   ],
   "source": [
    "trips.head()"
   ]
  },
  {
   "cell_type": "code",
   "execution_count": 9,
   "id": "6dd719f0-19d3-4435-9e74-89edc9fe976a",
   "metadata": {},
   "outputs": [
    {
     "data": {
      "text/html": [
       "<div>\n",
       "<style scoped>\n",
       "    .dataframe tbody tr th:only-of-type {\n",
       "        vertical-align: middle;\n",
       "    }\n",
       "\n",
       "    .dataframe tbody tr th {\n",
       "        vertical-align: top;\n",
       "    }\n",
       "\n",
       "    .dataframe thead th {\n",
       "        text-align: right;\n",
       "    }\n",
       "</style>\n",
       "<table border=\"1\" class=\"dataframe\">\n",
       "  <thead>\n",
       "    <tr style=\"text-align: right;\">\n",
       "      <th></th>\n",
       "      <th>Unnamed: 0</th>\n",
       "      <th>trips</th>\n",
       "    </tr>\n",
       "  </thead>\n",
       "  <tbody>\n",
       "    <tr>\n",
       "      <th>0</th>\n",
       "      <td>HV0005</td>\n",
       "      <td>1176143</td>\n",
       "    </tr>\n",
       "    <tr>\n",
       "      <th>1</th>\n",
       "      <td>HV0003</td>\n",
       "      <td>3537637</td>\n",
       "    </tr>\n",
       "    <tr>\n",
       "      <th>2</th>\n",
       "      <td>HV0004</td>\n",
       "      <td>147216</td>\n",
       "    </tr>\n",
       "    <tr>\n",
       "      <th>3</th>\n",
       "      <td>HV0002</td>\n",
       "      <td>0</td>\n",
       "    </tr>\n",
       "  </tbody>\n",
       "</table>\n",
       "</div>"
      ],
      "text/plain": [
       "  Unnamed: 0    trips\n",
       "0     HV0005  1176143\n",
       "1     HV0003  3537637\n",
       "2     HV0004   147216\n",
       "3     HV0002        0"
      ]
     },
     "execution_count": 9,
     "metadata": {},
     "output_type": "execute_result"
    }
   ],
   "source": [
    "trips.loc[3] = [\"HV0002\", 0]\n",
    "trips.head()"
   ]
  },
  {
   "cell_type": "code",
   "execution_count": 10,
   "id": "d4405e4f-7f0e-4ac7-9aa7-8a594c09120c",
   "metadata": {},
   "outputs": [
    {
     "data": {
      "text/html": [
       "<div>\n",
       "<style scoped>\n",
       "    .dataframe tbody tr th:only-of-type {\n",
       "        vertical-align: middle;\n",
       "    }\n",
       "\n",
       "    .dataframe tbody tr th {\n",
       "        vertical-align: top;\n",
       "    }\n",
       "\n",
       "    .dataframe thead th {\n",
       "        text-align: right;\n",
       "    }\n",
       "</style>\n",
       "<table border=\"1\" class=\"dataframe\">\n",
       "  <thead>\n",
       "    <tr style=\"text-align: right;\">\n",
       "      <th></th>\n",
       "      <th>Unnamed: 0</th>\n",
       "      <th>trips</th>\n",
       "    </tr>\n",
       "  </thead>\n",
       "  <tbody>\n",
       "    <tr>\n",
       "      <th>3</th>\n",
       "      <td>HV0002</td>\n",
       "      <td>0</td>\n",
       "    </tr>\n",
       "    <tr>\n",
       "      <th>1</th>\n",
       "      <td>HV0003</td>\n",
       "      <td>3537637</td>\n",
       "    </tr>\n",
       "    <tr>\n",
       "      <th>2</th>\n",
       "      <td>HV0004</td>\n",
       "      <td>147216</td>\n",
       "    </tr>\n",
       "    <tr>\n",
       "      <th>0</th>\n",
       "      <td>HV0005</td>\n",
       "      <td>1176143</td>\n",
       "    </tr>\n",
       "  </tbody>\n",
       "</table>\n",
       "</div>"
      ],
      "text/plain": [
       "  Unnamed: 0    trips\n",
       "3     HV0002        0\n",
       "1     HV0003  3537637\n",
       "2     HV0004   147216\n",
       "0     HV0005  1176143"
      ]
     },
     "execution_count": 10,
     "metadata": {},
     "output_type": "execute_result"
    }
   ],
   "source": [
    "trips=trips.sort_values('Unnamed: 0')\n",
    "trips.head()"
   ]
  },
  {
   "cell_type": "code",
   "execution_count": 11,
   "id": "40fd4df7-aafb-4b9c-b730-65fd3b601f9c",
   "metadata": {},
   "outputs": [
    {
     "data": {
      "text/plain": [
       "3    HV0002\n",
       "1    HV0003\n",
       "2    HV0004\n",
       "0    HV0005\n",
       "Name: Unnamed: 0, dtype: object"
      ]
     },
     "execution_count": 11,
     "metadata": {},
     "output_type": "execute_result"
    }
   ],
   "source": [
    "trips['Unnamed: 0'].sort_values()"
   ]
  },
  {
   "cell_type": "code",
   "execution_count": 12,
   "id": "d7344178-3ed9-4d9d-afa1-aa7f00c8add4",
   "metadata": {},
   "outputs": [
    {
     "data": {
      "text/html": [
       "<div>\n",
       "<style scoped>\n",
       "    .dataframe tbody tr th:only-of-type {\n",
       "        vertical-align: middle;\n",
       "    }\n",
       "\n",
       "    .dataframe tbody tr th {\n",
       "        vertical-align: top;\n",
       "    }\n",
       "\n",
       "    .dataframe thead th {\n",
       "        text-align: right;\n",
       "    }\n",
       "</style>\n",
       "<table border=\"1\" class=\"dataframe\">\n",
       "  <thead>\n",
       "    <tr style=\"text-align: right;\">\n",
       "      <th></th>\n",
       "      <th>Unnamed: 0</th>\n",
       "      <th>trips</th>\n",
       "    </tr>\n",
       "  </thead>\n",
       "  <tbody>\n",
       "    <tr>\n",
       "      <th>0</th>\n",
       "      <td>HV0002</td>\n",
       "      <td>0</td>\n",
       "    </tr>\n",
       "    <tr>\n",
       "      <th>1</th>\n",
       "      <td>HV0003</td>\n",
       "      <td>3537637</td>\n",
       "    </tr>\n",
       "    <tr>\n",
       "      <th>2</th>\n",
       "      <td>HV0004</td>\n",
       "      <td>147216</td>\n",
       "    </tr>\n",
       "    <tr>\n",
       "      <th>3</th>\n",
       "      <td>HV0005</td>\n",
       "      <td>1176143</td>\n",
       "    </tr>\n",
       "  </tbody>\n",
       "</table>\n",
       "</div>"
      ],
      "text/plain": [
       "  Unnamed: 0    trips\n",
       "0     HV0002        0\n",
       "1     HV0003  3537637\n",
       "2     HV0004   147216\n",
       "3     HV0005  1176143"
      ]
     },
     "execution_count": 12,
     "metadata": {},
     "output_type": "execute_result"
    }
   ],
   "source": [
    "trips = trips.reset_index(drop=True,inplace=False)\n",
    "trips.head()"
   ]
  },
  {
   "cell_type": "code",
   "execution_count": 18,
   "id": "08a2fd5b-9db9-4ffc-a3cc-a60207e7f0c5",
   "metadata": {},
   "outputs": [
    {
     "data": {
      "text/html": [
       "<div>\n",
       "<style scoped>\n",
       "    .dataframe tbody tr th:only-of-type {\n",
       "        vertical-align: middle;\n",
       "    }\n",
       "\n",
       "    .dataframe tbody tr th {\n",
       "        vertical-align: top;\n",
       "    }\n",
       "\n",
       "    .dataframe thead th {\n",
       "        text-align: right;\n",
       "    }\n",
       "</style>\n",
       "<table border=\"1\" class=\"dataframe\">\n",
       "  <thead>\n",
       "    <tr style=\"text-align: right;\">\n",
       "      <th></th>\n",
       "      <th>hvfhs_license_num</th>\n",
       "      <th>trips</th>\n",
       "    </tr>\n",
       "  </thead>\n",
       "  <tbody>\n",
       "    <tr>\n",
       "      <th>0</th>\n",
       "      <td>HV0002</td>\n",
       "      <td>0</td>\n",
       "    </tr>\n",
       "    <tr>\n",
       "      <th>1</th>\n",
       "      <td>HV0003</td>\n",
       "      <td>3537637</td>\n",
       "    </tr>\n",
       "    <tr>\n",
       "      <th>2</th>\n",
       "      <td>HV0004</td>\n",
       "      <td>147216</td>\n",
       "    </tr>\n",
       "    <tr>\n",
       "      <th>3</th>\n",
       "      <td>HV0005</td>\n",
       "      <td>1176143</td>\n",
       "    </tr>\n",
       "  </tbody>\n",
       "</table>\n",
       "</div>"
      ],
      "text/plain": [
       "  hvfhs_license_num    trips\n",
       "0            HV0002        0\n",
       "1            HV0003  3537637\n",
       "2            HV0004   147216\n",
       "3            HV0005  1176143"
      ]
     },
     "execution_count": 18,
     "metadata": {},
     "output_type": "execute_result"
    }
   ],
   "source": [
    "trips = trips.rename(columns = {'Unnamed: 0' : 'hvfhs_license_num'})\n",
    "trips.head()"
   ]
  },
  {
   "cell_type": "code",
   "execution_count": 19,
   "id": "7d1455cd-b5e4-4a91-b9f6-8391ea9c789f",
   "metadata": {},
   "outputs": [
    {
     "data": {
      "image/png": "[encoded data removed]",
      "text/plain": [
       "<Figure size 640x480 with 1 Axes>"
      ]
     },
     "metadata": {},
     "output_type": "display_data"
    }
   ],
   "source": [
    "trips.plot(kind = 'bar', x = \"hvfhs_license_num\", y = \"trips\", xlabel = \"hvfhs_license_num\", title = \"Count Trips\")\n",
    "plt.show()"
   ]
  },
  {
   "cell_type": "code",
   "execution_count": null,
   "id": "7be4a966-c7aa-4ff6-a512-d59456214534",
   "metadata": {},
   "outputs": [],
   "source": []
  }
 ],
 "metadata": {
  "kernelspec": {
   "display_name": "Python 3 (ipykernel)",
   "language": "python",
   "name": "python3"
  },
  "language_info": {
   "codemirror_mode": {
    "name": "ipython",
    "version": 3
   },
   "file_extension": ".py",
   "mimetype": "text/x-python",
   "name": "python",
   "nbconvert_exporter": "python",
   "pygments_lexer": "ipython3",
   "version": "3.7.6"
  }
 },
 "nbformat": 4,
 "nbformat_minor": 5
}
